{
 "cells": [
  {
   "cell_type": "code",
   "execution_count": 1,
   "metadata": {},
   "outputs": [],
   "source": [
    "import pandas as pd\n",
    "import matplotlib.pyplot as plt\n",
    "import pickle\n",
    "\n",
    "# Import Feature Engineered Sales Transaction file\n",
    "sales_df = pd.read_csv('Sales-Transactions-Edited.csv')"
   ]
  },
  {
   "cell_type": "markdown",
   "metadata": {},
   "source": [
    "# Items a Customer purchased the most"
   ]
  },
  {
   "cell_type": "code",
   "execution_count": 2,
   "metadata": {},
   "outputs": [],
   "source": [
    "# Find the no of units sold of each product by customer\n",
    "top_sell_cust_items_df = sales_df.groupby(['Party','Product']).agg({'Qty':'sum'})\n",
    "\n",
    "# Reset the index by converting the Party and Product into a column\n",
    "top_sell_cust_items_df.reset_index(inplace=True)\n",
    "\n",
    "\n",
    "# Rank the product by most Qty sold, at Customer level\n",
    "party_col = top_sell_cust_items_df['Party']\n",
    "qty_col = top_sell_cust_items_df['Qty'].astype(str)\n",
    "top_sell_cust_items_df['Top_Sell_Rank'] = (party_col + qty_col).rank(method='min',ascending=False).astype(int)\n",
    "\n",
    "\n",
    "# List the top 20 items sold\n",
    "#top_sell_cust_items_df.sort_values('Top_Sell_Rank',ascending=True).head(20)"
   ]
  },
  {
   "cell_type": "markdown",
   "metadata": {},
   "source": [
    "# Items a Customer frequently purchased"
   ]
  },
  {
   "cell_type": "code",
   "execution_count": 3,
   "metadata": {},
   "outputs": [],
   "source": [
    "# Considered Date column instead of Voucher, in counting the no of orders placed for a product.\n",
    "# This ignores the multiple no of orders created in a single day.\n",
    "# Here the understanding is that, this being a wholesale business,\n",
    "#      a customer places a 2nd order of the same product in a day, only when he/she notices a wrong qty placed on the order.\n",
    "# If the business considers to have Voucher column, instead of Date column, all the Date column below needs to be replaced.\n",
    "\n",
    "\n",
    "# Remove duplicate records at Party, Product and Date level\n",
    "unique_order_items_df = sales_df.drop_duplicates(['Party','Product','Date'])\n",
    "\n",
    "\n",
    "# Find the no of orders placed and the unique no of customers placed orders, of each product\n",
    "freq_items_df = unique_order_items_df.groupby(['Party','Product']).agg({'Date':'count'})\n",
    "freq_items_df.columns=['No_of_Orders']\n",
    "\n",
    "# Reset the index by converting the Party and Product into columns\n",
    "freq_items_df.reset_index(inplace=True)\n",
    "\n",
    "\n",
    "# Products with high no of orders are considered as most frequently purchased items\n",
    "\n",
    "# Rank the product by No of Orders, at Customer Level\n",
    "party_col = freq_items_df['Party']\n",
    "ord_count_col = freq_items_df['No_of_Orders'].astype(str)\n",
    "freq_items_df['Popularity_Rank'] = (party_col + ord_count_col).rank(method='min',ascending=False).astype(int)\n",
    "\n",
    "\n",
    "# List of top 20 most popular items sold\n",
    "#freq_items_df.sort_values('Popularity_Rank',ascending=True).head(20)"
   ]
  },
  {
   "cell_type": "markdown",
   "metadata": {},
   "source": [
    "# Merge all the Ranks"
   ]
  },
  {
   "cell_type": "code",
   "execution_count": 4,
   "metadata": {},
   "outputs": [],
   "source": [
    "# Merge Top Selling Items Rank and Popularity Rank dataframes\n",
    "cust_prod_rankings_df = pd.merge(top_sell_cust_items_df,freq_items_df,how='inner',on=['Party','Product'])\n",
    "\n",
    "\n",
    "# Merge the Unit Price (max price at product level)\n",
    "\n",
    "# Find the unit price of each product (max of price considered, may required to be changed to median or mean)\n",
    "items_price_df = sales_df.groupby(['Product']).agg({'Rate':'max'})\n",
    "\n",
    "# Reset the index by converting the Party and Product into columns\n",
    "items_price_df.reset_index(inplace=True)\n",
    "\n",
    "# This ensures the same unit price is attached to the product purchased by different customers\n",
    "cust_prod_rankings_df = pd.merge(cust_prod_rankings_df,items_price_df,how='left',on='Product')\n",
    "\n",
    "\n",
    "# Get only the Customer, Product, Price and Rank columns\n",
    "cust_prod_rankings_df = cust_prod_rankings_df[['Party','Product','Rate','Qty','Top_Sell_Rank','No_of_Orders','Popularity_Rank']]\n",
    "\n",
    "\n",
    "# List the Product Rankings\n",
    "#cust_prod_rankings_df.sort_values('Popularity_Rank',ascending=True).head(20)"
   ]
  },
  {
   "cell_type": "markdown",
   "metadata": {},
   "source": [
    "# Write the Customer Product Rankings into a .csv file¶"
   ]
  },
  {
   "cell_type": "code",
   "execution_count": 5,
   "metadata": {},
   "outputs": [],
   "source": [
    "cust_prod_rankings_df.to_csv('Customer-Product-Rankings.csv',index=False)"
   ]
  },
  {
   "cell_type": "markdown",
   "metadata": {},
   "source": [
    "# Create a Pickle (.pkl) file with the Ranking dataframe"
   ]
  },
  {
   "cell_type": "code",
   "execution_count": 6,
   "metadata": {},
   "outputs": [],
   "source": [
    "pickle.dump(cust_prod_rankings_df, open('cust_prod_ranking_model.pkl','wb'))"
   ]
  },
  {
   "cell_type": "code",
   "execution_count": null,
   "metadata": {},
   "outputs": [],
   "source": []
  }
 ],
 "metadata": {
  "kernelspec": {
   "display_name": "Python 3",
   "language": "python",
   "name": "python3"
  },
  "language_info": {
   "codemirror_mode": {
    "name": "ipython",
    "version": 3
   },
   "file_extension": ".py",
   "mimetype": "text/x-python",
   "name": "python",
   "nbconvert_exporter": "python",
   "pygments_lexer": "ipython3",
   "version": "3.7.6"
  }
 },
 "nbformat": 4,
 "nbformat_minor": 4
}
