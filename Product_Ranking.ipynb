{
 "cells": [
  {
   "cell_type": "code",
   "execution_count": 1,
   "metadata": {},
   "outputs": [],
   "source": [
    "\n",
    "import pandas as pd\n",
    "import matplotlib.pyplot as plt\n",
    "import pickle\n",
    "\n",
    "# Import Feature Engineered Sales Transaction file\n",
    "sales_df = pd.read_csv('Sales-Transactions-Edited.csv')"
   ]
  },
  {
   "cell_type": "markdown",
   "metadata": {},
   "source": [
    "# Top Selling Items"
   ]
  },
  {
   "cell_type": "code",
   "execution_count": 2,
   "metadata": {},
   "outputs": [],
   "source": [
    "# Find the no of units sold of each product\n",
    "# Find the unit price of each product (max of price considered, may required to be changed to median or mean)\n",
    "top_sell_items_df = sales_df.groupby('Product').agg({'Qty':'sum', 'Rate':'max'})\n",
    "\n",
    "# Reset the index by converting the Product into a column\n",
    "top_sell_items_df.reset_index(inplace=True)\n",
    "\n",
    "\n",
    "# Rank the product by most Qty sold\n",
    "top_sell_items_df['Top_Sell_Rank'] = top_sell_items_df['Qty'].rank(method='min',ascending=False).astype(int)\n",
    "\n",
    "\n",
    "# List the top 20 items sold\n",
    "#top_sell_items_df.sort_values('Qty',ascending=False).head(20)"
   ]
  },
  {
   "cell_type": "markdown",
   "metadata": {},
   "source": [
    "# Most Popular Items"
   ]
  },
  {
   "cell_type": "code",
   "execution_count": 3,
   "metadata": {},
   "outputs": [],
   "source": [
    "# Considered Date column instead of Voucher, in counting the no of orders placed for a product.\n",
    "# This ignores the multiple no of orders created in a single day.\n",
    "# Here the understanding is that, this being a wholesale business,\n",
    "#      a customer places a 2nd order of the same product in a day, only when he/she notices a wrong qty placed on the order.\n",
    "# If the business considers to have Voucher column, instead of Date column, all the Date column below needs to be replaced.\n",
    "\n",
    "\n",
    "# Remove duplicate records at Product, Date and Party level\n",
    "unique_order_items_df = sales_df.drop_duplicates(['Product','Date','Party'])\n",
    "\n",
    "\n",
    "# Find the no of orders placed and the unique no of customers placed orders, of each product\n",
    "most_popular_items_df = unique_order_items_df.groupby('Product').agg({'Date':'count', 'Party':'nunique'})\n",
    "most_popular_items_df.columns=['No_of_Orders','No_of_Customers']\n",
    "\n",
    "# Reset the index by converting the Product into a column\n",
    "most_popular_items_df.reset_index(inplace=True)\n",
    "\n",
    "\n",
    "# Products with high no of orders can be considered as most frequently purchased items\n",
    "# To find the most popular items, include the no of customers purchased and provide more weightage to products purchased by more customers\n",
    "\n",
    "# Weighted No_of_Orders (W) = O * (C / M)\n",
    "# O = No_of_Orders\n",
    "# C = No_of_Customers purchased the product\n",
    "# M = Maximum no of customers made transactions in the entire period\n",
    "\n",
    "O = most_popular_items_df['No_of_Orders']\n",
    "C = most_popular_items_df['No_of_Customers']\n",
    "M = most_popular_items_df['No_of_Customers'].max()\n",
    "\n",
    "most_popular_items_df['Weighted_No_of_Orders'] = O * (C / M)\n",
    "\n",
    "# Rank the product by weighted no of orders\n",
    "most_popular_items_df['Popularity_Rank'] = most_popular_items_df['Weighted_No_of_Orders'].rank(method='min',ascending=False).astype(int)\n",
    "\n",
    "\n",
    "# List of top 20 most popular items sold\n",
    "#most_popular_items_df.sort_values('Popularity_Rank',ascending=True).head(20)"
   ]
  },
  {
   "cell_type": "markdown",
   "metadata": {},
   "source": [
    "# Merge all the Ranks"
   ]
  },
  {
   "cell_type": "code",
   "execution_count": 4,
   "metadata": {},
   "outputs": [],
   "source": [
    "# Merge Top Selling Items Rank and Popularity Rank dataframes\n",
    "product_rankings_df = pd.merge(top_sell_items_df,most_popular_items_df,how='inner',on='Product')\n",
    "\n",
    "# Get only the Product, Price and Rank columns\n",
    "product_rankings_df = product_rankings_df[['Product','Rate','Top_Sell_Rank','Popularity_Rank']]\n",
    "\n",
    "# List the Product Rankings\n",
    "#product_rankings_df.sort_values('Popularity_Rank',ascending=True).head(20)"
   ]
  },
  {
   "cell_type": "markdown",
   "metadata": {},
   "source": [
    "# Write the Product Rankings into a .csv file"
   ]
  },
  {
   "cell_type": "code",
   "execution_count": 5,
   "metadata": {},
   "outputs": [],
   "source": [
    "product_rankings_df.to_csv('Product-Rankings.csv',index=False)"
   ]
  },
  {
   "cell_type": "markdown",
   "metadata": {},
   "source": [
    "# Create a Pickle (.pkl) file with the Ranking dataframe"
   ]
  },
  {
   "cell_type": "code",
   "execution_count": 6,
   "metadata": {},
   "outputs": [],
   "source": [
    "pickle.dump(product_rankings_df, open('prod_ranking_model.pkl','wb'))"
   ]
  },
  {
   "cell_type": "code",
   "execution_count": null,
   "metadata": {},
   "outputs": [],
   "source": []
  }
 ],
 "metadata": {
  "kernelspec": {
   "display_name": "Python 3",
   "language": "python",
   "name": "python3"
  },
  "language_info": {
   "codemirror_mode": {
    "name": "ipython",
    "version": 3
   },
   "file_extension": ".py",
   "mimetype": "text/x-python",
   "name": "python",
   "nbconvert_exporter": "python",
   "pygments_lexer": "ipython3",
   "version": "3.7.6"
  }
 },
 "nbformat": 4,
 "nbformat_minor": 4
}
