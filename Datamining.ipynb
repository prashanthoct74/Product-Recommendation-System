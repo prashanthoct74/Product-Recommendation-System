{
 "cells": [
  {
   "cell_type": "code",
   "execution_count": 2,
   "metadata": {},
   "outputs": [],
   "source": [
    "import pandas as pd\n",
    "\n",
    "# Import Sales Transaction file and Customer file\n",
    "sales_2017_df = pd.read_csv('sales_transaction_2017.csv')\n",
    "sales_2018_df = pd.read_csv('sales_transaction_2018.csv')\n",
    "sales_2019_df = pd.read_csv('sales_transaction_2019.csv')"
   ]
  },
  {
   "cell_type": "markdown",
   "metadata": {},
   "source": [
    "# Perform Data Cleaning (Drop columns and rows and cosmetic changes)"
   ]
  },
  {
   "cell_type": "code",
   "execution_count": 3,
   "metadata": {},
   "outputs": [],
   "source": [
    "# Concatenate all the Sales dataframes\n",
    "full_sales_df = pd.concat([sales_2017_df, sales_2018_df, sales_2019_df], ignore_index=True,sort=False)\n",
    "\n",
    "# Drop the Columns Gross, Disc, Voucher Amount, using drop() method on the specific columns\n",
    "sales_df = full_sales_df.drop(columns=['Gross','Disc','Voucher Amount'],axis=1)\n",
    "\n",
    "# Drop the Rows with Date column being NaN (Null) or Spaces, using dropna() method and subset as only Date column\n",
    "sales_df = sales_df[sales_df['Date'] != ' '].dropna(subset=['Date'])\n",
    "\n",
    "# Convert the Date format from DD/MM/YYYY to YYYY/MM/DD (input date is with Day First), using to_datetime method\n",
    "sales_df['Date'] = pd.to_datetime(sales_df['Date'],dayfirst=True)\n",
    "\n",
    "# Remove the string'Sal:' from Voucher column, using .str.slice(start,stop,step) method\n",
    "sales_df['Voucher'] = sales_df['Voucher'].str.slice(start=4,stop=None,step=1).astype(int)\n",
    "\n",
    "# Covert the Party column into uppercase\n",
    "sales_df['Party'] = sales_df['Party'].str.upper()\n",
    "\n",
    "# Covert the Product column into uppercase\n",
    "sales_df['Product'] = sales_df['Product'].str.upper()\n",
    "\n",
    "# Convert the Qty column into an integer (Data has the entries with ',' and '.00') - Assuming Quantity can only be an integer\n",
    "sales_df['Qty'] = sales_df['Qty'].str.replace(',','').astype(float).astype(int)\n",
    "\n",
    "# Eliminate ',' in the Rate column\n",
    "sales_df['Rate'] = sales_df['Rate'].str.replace(',','').astype(float)\n",
    "\n",
    "# Convert the Rate column into float variable with e decimal points\n",
    "#sales_df['Rate'] = sales_df['Rate'].apply(lambda x: round(x, 2))\n",
    "\n",
    "# Sort the Sales Transaction file in the order of Date and Voucher\n",
    "sales_df = sales_df.sort_values(['Date','Voucher'])"
   ]
  },
  {
   "cell_type": "markdown",
   "metadata": {},
   "source": [
    "# Write Edited Sales Transaction Data into .csv file"
   ]
  },
  {
   "cell_type": "code",
   "execution_count": 4,
   "metadata": {},
   "outputs": [],
   "source": [
    "# Write the Edited Sales Transaction file to .csv\n",
    "sales_df.to_csv('Sales-Transactions-Edited.csv',index=False)"
   ]
  },
  {
   "cell_type": "code",
   "execution_count": null,
   "metadata": {},
   "outputs": [],
   "source": []
  }
 ],
 "metadata": {
  "kernelspec": {
   "display_name": "Python 3",
   "language": "python",
   "name": "python3"
  },
  "language_info": {
   "codemirror_mode": {
    "name": "ipython",
    "version": 3
   },
   "file_extension": ".py",
   "mimetype": "text/x-python",
   "name": "python",
   "nbconvert_exporter": "python",
   "pygments_lexer": "ipython3",
   "version": "3.7.6"
  }
 },
 "nbformat": 4,
 "nbformat_minor": 4
}
