{
 "cells": [
  {
   "cell_type": "code",
   "execution_count": 1,
   "metadata": {},
   "outputs": [],
   "source": [
    "import pandas as pd\n",
    "import pickle\n",
    "\n",
    "# Import Feature Engineered Sales Transaction file\n",
    "sales_df = pd.read_csv('Sales-Transactions-Edited.csv')"
   ]
  },
  {
   "cell_type": "markdown",
   "metadata": {},
   "source": [
    "# Build Correlation Matrix for the Product-Customer relations (using Item-Item based recommendation)"
   ]
  },
  {
   "cell_type": "code",
   "execution_count": 2,
   "metadata": {},
   "outputs": [],
   "source": [
    "# Find the total qty purchased by each customer of each product\n",
    "prod_cust_qty_df = sales_df.groupby(['Product','Party']).agg({'Qty':'sum'})\n",
    "\n",
    "# Reset the index by converting the Party and Product into columns\n",
    "prod_cust_qty_df.reset_index(inplace=True)\n",
    "\n",
    "\n",
    "# Find the no of unique customers purchased each product\n",
    "prod_cust_count_df = sales_df.groupby(['Product']).agg({'Party':'nunique'})\n",
    "\n",
    "# Set the customer count column\n",
    "prod_cust_count_df.columns=['No_of_Customers']\n",
    "\n",
    "# Reset the index by converting the Party and Product into columns\n",
    "prod_cust_count_df.reset_index(inplace=True)\n",
    "\n",
    "\n",
    "# Merge the unique customer count and qty purchased of each product\n",
    "prod_cust_df = pd.merge(prod_cust_qty_df,prod_cust_count_df,how='inner',on='Product')\n",
    "\n",
    "\n",
    "# Create a pivot table with all Products on columns and Customers on rows, and Qty as values\n",
    "prod_cust_pivot_df = prod_cust_df.pivot(index='Party',columns='Product',values='Qty').fillna(0)\n",
    "\n",
    "# Find the correlation between every two products and build a correlation matrix using corr() method\n",
    "# Used Spearman method in identifying the correlation. Pearson was not providing better results and Kendall is taking a long time for execution.\n",
    "prod_correlation_df = prod_cust_pivot_df.corr(method='spearman',min_periods=5)\n",
    "#prod_correlation_df"
   ]
  },
  {
   "cell_type": "markdown",
   "metadata": {},
   "source": [
    "# Write the Product to Product Correlation Matrix to a .csv file"
   ]
  },
  {
   "cell_type": "code",
   "execution_count": 3,
   "metadata": {},
   "outputs": [],
   "source": [
    "prod_correlation_df.to_csv('Product-Product-Correlation-Matrix.csv')"
   ]
  },
  {
   "cell_type": "markdown",
   "metadata": {},
   "source": [
    "# Create a Pickle (.pkl) file with the Correlation Matrix dataframe"
   ]
  },
  {
   "cell_type": "code",
   "execution_count": 4,
   "metadata": {},
   "outputs": [],
   "source": [
    "pickle.dump(prod_correlation_df, open('prod_correlation_model.pkl','wb'))\n"
   ]
  },
  {
   "cell_type": "code",
   "execution_count": null,
   "metadata": {},
   "outputs": [],
   "source": []
  }
 ],
 "metadata": {
  "kernelspec": {
   "display_name": "Python 3",
   "language": "python",
   "name": "python3"
  },
  "language_info": {
   "codemirror_mode": {
    "name": "ipython",
    "version": 3
   },
   "file_extension": ".py",
   "mimetype": "text/x-python",
   "name": "python",
   "nbconvert_exporter": "python",
   "pygments_lexer": "ipython3",
   "version": "3.7.6"
  }
 },
 "nbformat": 4,
 "nbformat_minor": 4
}
